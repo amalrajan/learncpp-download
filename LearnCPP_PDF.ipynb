{
  "cells": [
    {
      "cell_type": "markdown",
      "metadata": {
        "id": "view-in-github",
        "colab_type": "text"
      },
      "source": [
        "<a href=\"https://colab.research.google.com/github/egemenertugrul/learncpp-download/blob/master/LearnCPP_PDF.ipynb\" target=\"_parent\"><img src=\"https://colab.research.google.com/assets/colab-badge.svg\" alt=\"Open In Colab\"/></a>"
      ]
    },
    {
      "cell_type": "code",
      "execution_count": null,
      "metadata": {
        "id": "QVPZLIclFmq8"
      },
      "outputs": [],
      "source": [
        "!wget https://launchpad.net/~ubuntu-security/+archive/ubuntu/ppa/+build/15108504/+files/libpng12-0_1.2.54-1ubuntu1.1_amd64.deb\n",
        "!apt install ./libpng12-0_1.2.54-1ubuntu1.1_amd64.deb\n",
        "\n",
        "!wget https://github.com/wkhtmltopdf/packaging/releases/download/0.12.6-1/wkhtmltox_0.12.6-1.xenial_amd64.deb\n",
        "!apt install ./wkhtmltox_0.12.6-1.xenial_amd64.deb"
      ]
    },
    {
      "cell_type": "code",
      "execution_count": null,
      "metadata": {
        "id": "B0eRp2uBKKs3"
      },
      "outputs": [],
      "source": [
        "!git clone https://github.com/egemenertugrul/learncpp-download.git\n",
        "%cd ./learncpp-download\n",
        "!pip install -r requirements.txt"
      ]
    },
    {
      "cell_type": "code",
      "execution_count": null,
      "metadata": {
        "id": "fxlhKcqMKfbY"
      },
      "outputs": [],
      "source": [
        "!pip install numpy ray pdfkit weasyprint xhtml2pdf"
      ]
    },
    {
      "cell_type": "code",
      "execution_count": 12,
      "metadata": {
        "colab": {
          "base_uri": "https://localhost:8080/"
        },
        "id": "fE0-2y0gKnin",
        "outputId": "3113b0e5-3a02-4071-f52f-ff3986208e00"
      },
      "outputs": [
        {
          "output_type": "stream",
          "name": "stdout",
          "text": [
            "/content/learncpp-download/source\n"
          ]
        }
      ],
      "source": [
        "%cd source"
      ]
    },
    {
      "cell_type": "code",
      "source": [
        "!python main.py"
      ],
      "metadata": {
        "colab": {
          "base_uri": "https://localhost:8080/"
        },
        "id": "fxa9OU8otLic",
        "outputId": "eefb106e-10a0-4f63-ba44-d494a3dd621c"
      },
      "execution_count": 21,
      "outputs": [
        {
          "output_type": "stream",
          "name": "stdout",
          "text": [
            "2022-11-15 10:05:36,454\tINFO worker.py:1528 -- Started a local Ray instance.\n",
            "\u001b[0m"
          ]
        }
      ]
    },
    {
      "cell_type": "markdown",
      "source": [
        "Download the pdf(s)."
      ],
      "metadata": {
        "id": "x5EtgO76xv44"
      }
    },
    {
      "cell_type": "code",
      "source": [
        "%cd .."
      ],
      "metadata": {
        "colab": {
          "base_uri": "https://localhost:8080/"
        },
        "id": "UR9LRDCOxt-w",
        "outputId": "d9dae5d8-8ca7-463e-891d-a3ab86085c32"
      },
      "execution_count": 26,
      "outputs": [
        {
          "output_type": "stream",
          "name": "stdout",
          "text": [
            "/content/learncpp-download\n"
          ]
        }
      ]
    },
    {
      "cell_type": "code",
      "source": [
        "from google.colab import files"
      ],
      "metadata": {
        "id": "cfEWX3Gl1Zu-"
      },
      "execution_count": 37,
      "outputs": []
    },
    {
      "cell_type": "markdown",
      "source": [
        "As a zipped file:"
      ],
      "metadata": {
        "id": "SpM4b_sax8hn"
      }
    },
    {
      "cell_type": "code",
      "execution_count": null,
      "metadata": {
        "colab": {
          "base_uri": "https://localhost:8080/"
        },
        "id": "ShgHDF9dM0Sz",
        "outputId": "a3fa137d-8a18-42a5-8589-3a9d1f8e0a63"
      },
      "outputs": [
        {
          "name": "stdout",
          "output_type": "stream",
          "text": [
            "[Errno 2] No such file or directory: 'downloads'\n",
            "/content/learncpp-download\n",
            "\tzip warning: name not matched: *\n",
            "\n",
            "zip error: Nothing to do! (try: zip -r ../../learncpp.zip . -i *)\n"
          ]
        }
      ],
      "source": [
        "!zip -r learncpp.zip ./source/downloads/*\n",
        "files.download(\"learncpp.zip\")"
      ]
    },
    {
      "cell_type": "markdown",
      "source": [
        "OR\n",
        "\n",
        "As a merged PDF:"
      ],
      "metadata": {
        "id": "6TWkwLoHxZZf"
      }
    },
    {
      "cell_type": "code",
      "source": [
        "from PyPDF3 import PdfFileMerger, PdfFileReader\n",
        "import glob\n",
        "import os\n",
        "\n",
        "merger = PdfFileMerger()\n",
        "\n",
        "for file in sorted(glob.glob(\"./source/downloads/*.pdf\")):\n",
        "  # print(file)\n",
        "  merger.append(PdfFileReader(open(file, 'rb')), import_bookmarks=False)\n",
        "\n",
        "if merger.id_count > 0:\n",
        "  print(f\"Total pages: {merger.id_count}\")\n",
        "  merger.write(\"learncpp.pdf\")\n",
        "  files.download(\"learncpp.pdf\")\n"
      ],
      "metadata": {
        "colab": {
          "base_uri": "https://localhost:8080/",
          "height": 34
        },
        "id": "l_3Eck6kxZOT",
        "outputId": "741af7ef-da71-4125-9548-75becb5dfe80"
      },
      "execution_count": 38,
      "outputs": [
        {
          "output_type": "stream",
          "name": "stdout",
          "text": [
            "Merged 2055 files\n"
          ]
        },
        {
          "output_type": "display_data",
          "data": {
            "text/plain": [
              "<IPython.core.display.Javascript object>"
            ],
            "application/javascript": [
              "\n",
              "    async function download(id, filename, size) {\n",
              "      if (!google.colab.kernel.accessAllowed) {\n",
              "        return;\n",
              "      }\n",
              "      const div = document.createElement('div');\n",
              "      const label = document.createElement('label');\n",
              "      label.textContent = `Downloading \"${filename}\": `;\n",
              "      div.appendChild(label);\n",
              "      const progress = document.createElement('progress');\n",
              "      progress.max = size;\n",
              "      div.appendChild(progress);\n",
              "      document.body.appendChild(div);\n",
              "\n",
              "      const buffers = [];\n",
              "      let downloaded = 0;\n",
              "\n",
              "      const channel = await google.colab.kernel.comms.open(id);\n",
              "      // Send a message to notify the kernel that we're ready.\n",
              "      channel.send({})\n",
              "\n",
              "      for await (const message of channel.messages) {\n",
              "        // Send a message to notify the kernel that we're ready.\n",
              "        channel.send({})\n",
              "        if (message.buffers) {\n",
              "          for (const buffer of message.buffers) {\n",
              "            buffers.push(buffer);\n",
              "            downloaded += buffer.byteLength;\n",
              "            progress.value = downloaded;\n",
              "          }\n",
              "        }\n",
              "      }\n",
              "      const blob = new Blob(buffers, {type: 'application/binary'});\n",
              "      const a = document.createElement('a');\n",
              "      a.href = window.URL.createObjectURL(blob);\n",
              "      a.download = filename;\n",
              "      div.appendChild(a);\n",
              "      a.click();\n",
              "      div.remove();\n",
              "    }\n",
              "  "
            ]
          },
          "metadata": {}
        },
        {
          "output_type": "display_data",
          "data": {
            "text/plain": [
              "<IPython.core.display.Javascript object>"
            ],
            "application/javascript": [
              "download(\"download_43f9e623-ec5a-4d11-9712-e13d2d806606\", \"learncpp.pdf\", 33295429)"
            ]
          },
          "metadata": {}
        }
      ]
    }
  ],
  "metadata": {
    "colab": {
      "collapsed_sections": [],
      "provenance": [],
      "authorship_tag": "ABX9TyO9xuCQ1rdAE/iLJU3ODUTt",
      "include_colab_link": true
    },
    "kernelspec": {
      "display_name": "Python 3",
      "name": "python3"
    },
    "language_info": {
      "name": "python"
    }
  },
  "nbformat": 4,
  "nbformat_minor": 0
}