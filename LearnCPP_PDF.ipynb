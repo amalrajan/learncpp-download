{
  "cells": [
    {
      "cell_type": "markdown",
      "source": [
        "# LearnCPP to PDF"
      ],
      "metadata": {
        "id": "jTmL0KEi4YVP"
      }
    },
    {
      "cell_type": "markdown",
      "source": [
        "## Install required libraries"
      ],
      "metadata": {
        "id": "9KEAsUWO4Vtj"
      }
    },
    {
      "cell_type": "code",
      "execution_count": null,
      "metadata": {
        "id": "QVPZLIclFmq8"
      },
      "outputs": [],
      "source": [
        "!wget https://launchpad.net/~ubuntu-security/+archive/ubuntu/ppa/+build/15108504/+files/libpng12-0_1.2.54-1ubuntu1.1_amd64.deb\n",
        "!apt install ./libpng12-0_1.2.54-1ubuntu1.1_amd64.deb\n",
        "\n",
        "!wget https://github.com/wkhtmltopdf/packaging/releases/download/0.12.6-1/wkhtmltox_0.12.6-1.xenial_amd64.deb\n",
        "!apt install ./wkhtmltox_0.12.6-1.xenial_amd64.deb"
      ]
    },
    {
      "cell_type": "code",
      "execution_count": null,
      "metadata": {
        "id": "B0eRp2uBKKs3"
      },
      "outputs": [],
      "source": [
        "!git clone https://github.com/egemenertugrul/learncpp-download.git\n",
        "%cd ./learncpp-download\n",
        "!pip install -r requirements.txt"
      ]
    },
    {
      "cell_type": "code",
      "execution_count": null,
      "metadata": {
        "id": "fxlhKcqMKfbY"
      },
      "outputs": [],
      "source": [
        "!pip install numpy ray pdfkit weasyprint xhtml2pdf"
      ]
    },
    {
      "cell_type": "markdown",
      "source": [
        "## Run"
      ],
      "metadata": {
        "id": "bJ0gq_Nm4rGP"
      }
    },
    {
      "cell_type": "code",
      "execution_count": null,
      "metadata": {
        "id": "fE0-2y0gKnin"
      },
      "outputs": [],
      "source": [
        "%cd source"
      ]
    },
    {
      "cell_type": "code",
      "source": [
        "!python main.py"
      ],
      "metadata": {
        "id": "fxa9OU8otLic"
      },
      "execution_count": null,
      "outputs": []
    },
    {
      "cell_type": "code",
      "source": [
        "%cd .."
      ],
      "metadata": {
        "id": "UR9LRDCOxt-w"
      },
      "execution_count": null,
      "outputs": []
    },
    {
      "cell_type": "markdown",
      "source": [
        "## Download the pdf(s)"
      ],
      "metadata": {
        "id": "x5EtgO76xv44"
      }
    },
    {
      "cell_type": "code",
      "source": [
        "from google.colab import files"
      ],
      "metadata": {
        "id": "cfEWX3Gl1Zu-"
      },
      "execution_count": null,
      "outputs": []
    },
    {
      "cell_type": "markdown",
      "source": [
        "As a zipped file:"
      ],
      "metadata": {
        "id": "SpM4b_sax8hn"
      }
    },
    {
      "cell_type": "code",
      "execution_count": null,
      "metadata": {
        "id": "ShgHDF9dM0Sz"
      },
      "outputs": [],
      "source": [
        "!zip -r learncpp.zip ./source/downloads/*\n",
        "files.download(\"learncpp.zip\")"
      ]
    },
    {
      "cell_type": "markdown",
      "source": [
        "OR\n",
        "\n",
        "As a merged PDF:"
      ],
      "metadata": {
        "id": "6TWkwLoHxZZf"
      }
    },
    {
      "cell_type": "code",
      "source": [
        "from PyPDF3 import PdfFileMerger, PdfFileReader\n",
        "import glob\n",
        "import os\n",
        "\n",
        "merger = PdfFileMerger()\n",
        "\n",
        "for file in sorted(glob.glob(\"./source/downloads/*.pdf\")):\n",
        "  # print(file)\n",
        "  merger.append(PdfFileReader(open(file, 'rb')), import_bookmarks=False)\n",
        "\n",
        "if merger.id_count > 0:\n",
        "  print(f\"Total pages: {merger.id_count}\")\n",
        "  merger.write(\"learncpp.pdf\")\n",
        "  files.download(\"learncpp.pdf\")\n"
      ],
      "metadata": {
        "id": "l_3Eck6kxZOT"
      },
      "execution_count": null,
      "outputs": []
    }
  ],
  "metadata": {
    "colab": {
      "collapsed_sections": [],
      "provenance": []
    },
    "kernelspec": {
      "display_name": "Python 3",
      "name": "python3"
    },
    "language_info": {
      "name": "python"
    }
  },
  "nbformat": 4,
  "nbformat_minor": 0
}
